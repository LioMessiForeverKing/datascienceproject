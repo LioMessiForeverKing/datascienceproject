{
  "cells": [
    {
      "cell_type": "code",
      "execution_count": 1,
      "id": "a30575d1",
      "metadata": {
        "id": "a30575d1"
      },
      "outputs": [],
      "source": [
        "import numpy as np\n",
        "import pandas as pd\n",
        "import matplotlib.pyplot as plt\n",
        "import seaborn as sns\n",
        "from sklearn.metrics import confusion_matrix"
      ]
    },
    {
      "cell_type": "code",
      "execution_count": 2,
      "id": "mVEM9ZhbDqcZ",
      "metadata": {
        "colab": {
          "base_uri": "https://localhost:8080/"
        },
        "id": "mVEM9ZhbDqcZ",
        "outputId": "5ea3eb7e-1a4f-4f1a-a07e-17ecfd1f28ff"
      },
      "outputs": [],
      "source": [
        "# from google.colab import drive\n",
        "# drive.mount('/content/drive')"
      ]
    },
    {
      "cell_type": "code",
      "execution_count": 3,
      "id": "68974daa",
      "metadata": {
        "colab": {
          "base_uri": "https://localhost:8080/",
          "height": 255
        },
        "id": "68974daa",
        "outputId": "aa63228c-4aed-4ff0-bf10-faa2284d7281"
      },
      "outputs": [
        {
          "data": {
            "text/html": [
              "<div>\n",
              "<style scoped>\n",
              "    .dataframe tbody tr th:only-of-type {\n",
              "        vertical-align: middle;\n",
              "    }\n",
              "\n",
              "    .dataframe tbody tr th {\n",
              "        vertical-align: top;\n",
              "    }\n",
              "\n",
              "    .dataframe thead th {\n",
              "        text-align: right;\n",
              "    }\n",
              "</style>\n",
              "<table border=\"1\" class=\"dataframe\">\n",
              "  <thead>\n",
              "    <tr style=\"text-align: right;\">\n",
              "      <th></th>\n",
              "      <th>battery_power</th>\n",
              "      <th>blue</th>\n",
              "      <th>clock_speed</th>\n",
              "      <th>dual_sim</th>\n",
              "      <th>fc</th>\n",
              "      <th>four_g</th>\n",
              "      <th>int_memory</th>\n",
              "      <th>m_dep</th>\n",
              "      <th>mobile_wt</th>\n",
              "      <th>n_cores</th>\n",
              "      <th>...</th>\n",
              "      <th>px_height</th>\n",
              "      <th>px_width</th>\n",
              "      <th>ram</th>\n",
              "      <th>sc_h</th>\n",
              "      <th>sc_w</th>\n",
              "      <th>talk_time</th>\n",
              "      <th>three_g</th>\n",
              "      <th>touch_screen</th>\n",
              "      <th>wifi</th>\n",
              "      <th>price_range</th>\n",
              "    </tr>\n",
              "  </thead>\n",
              "  <tbody>\n",
              "    <tr>\n",
              "      <th>0</th>\n",
              "      <td>842</td>\n",
              "      <td>0</td>\n",
              "      <td>2.2</td>\n",
              "      <td>0</td>\n",
              "      <td>1</td>\n",
              "      <td>0</td>\n",
              "      <td>7</td>\n",
              "      <td>0.6</td>\n",
              "      <td>188</td>\n",
              "      <td>2</td>\n",
              "      <td>...</td>\n",
              "      <td>20</td>\n",
              "      <td>756</td>\n",
              "      <td>2549</td>\n",
              "      <td>9</td>\n",
              "      <td>7</td>\n",
              "      <td>19</td>\n",
              "      <td>0</td>\n",
              "      <td>0</td>\n",
              "      <td>1</td>\n",
              "      <td>1</td>\n",
              "    </tr>\n",
              "    <tr>\n",
              "      <th>1</th>\n",
              "      <td>1021</td>\n",
              "      <td>1</td>\n",
              "      <td>0.5</td>\n",
              "      <td>1</td>\n",
              "      <td>0</td>\n",
              "      <td>1</td>\n",
              "      <td>53</td>\n",
              "      <td>0.7</td>\n",
              "      <td>136</td>\n",
              "      <td>3</td>\n",
              "      <td>...</td>\n",
              "      <td>905</td>\n",
              "      <td>1988</td>\n",
              "      <td>2631</td>\n",
              "      <td>17</td>\n",
              "      <td>3</td>\n",
              "      <td>7</td>\n",
              "      <td>1</td>\n",
              "      <td>1</td>\n",
              "      <td>0</td>\n",
              "      <td>2</td>\n",
              "    </tr>\n",
              "    <tr>\n",
              "      <th>2</th>\n",
              "      <td>563</td>\n",
              "      <td>1</td>\n",
              "      <td>0.5</td>\n",
              "      <td>1</td>\n",
              "      <td>2</td>\n",
              "      <td>1</td>\n",
              "      <td>41</td>\n",
              "      <td>0.9</td>\n",
              "      <td>145</td>\n",
              "      <td>5</td>\n",
              "      <td>...</td>\n",
              "      <td>1263</td>\n",
              "      <td>1716</td>\n",
              "      <td>2603</td>\n",
              "      <td>11</td>\n",
              "      <td>2</td>\n",
              "      <td>9</td>\n",
              "      <td>1</td>\n",
              "      <td>1</td>\n",
              "      <td>0</td>\n",
              "      <td>2</td>\n",
              "    </tr>\n",
              "    <tr>\n",
              "      <th>3</th>\n",
              "      <td>615</td>\n",
              "      <td>1</td>\n",
              "      <td>2.5</td>\n",
              "      <td>0</td>\n",
              "      <td>0</td>\n",
              "      <td>0</td>\n",
              "      <td>10</td>\n",
              "      <td>0.8</td>\n",
              "      <td>131</td>\n",
              "      <td>6</td>\n",
              "      <td>...</td>\n",
              "      <td>1216</td>\n",
              "      <td>1786</td>\n",
              "      <td>2769</td>\n",
              "      <td>16</td>\n",
              "      <td>8</td>\n",
              "      <td>11</td>\n",
              "      <td>1</td>\n",
              "      <td>0</td>\n",
              "      <td>0</td>\n",
              "      <td>2</td>\n",
              "    </tr>\n",
              "    <tr>\n",
              "      <th>4</th>\n",
              "      <td>1821</td>\n",
              "      <td>1</td>\n",
              "      <td>1.2</td>\n",
              "      <td>0</td>\n",
              "      <td>13</td>\n",
              "      <td>1</td>\n",
              "      <td>44</td>\n",
              "      <td>0.6</td>\n",
              "      <td>141</td>\n",
              "      <td>2</td>\n",
              "      <td>...</td>\n",
              "      <td>1208</td>\n",
              "      <td>1212</td>\n",
              "      <td>1411</td>\n",
              "      <td>8</td>\n",
              "      <td>2</td>\n",
              "      <td>15</td>\n",
              "      <td>1</td>\n",
              "      <td>1</td>\n",
              "      <td>0</td>\n",
              "      <td>1</td>\n",
              "    </tr>\n",
              "  </tbody>\n",
              "</table>\n",
              "<p>5 rows × 21 columns</p>\n",
              "</div>"
            ],
            "text/plain": [
              "   battery_power  blue  clock_speed  dual_sim  fc  four_g  int_memory  m_dep  \\\n",
              "0            842     0          2.2         0   1       0           7    0.6   \n",
              "1           1021     1          0.5         1   0       1          53    0.7   \n",
              "2            563     1          0.5         1   2       1          41    0.9   \n",
              "3            615     1          2.5         0   0       0          10    0.8   \n",
              "4           1821     1          1.2         0  13       1          44    0.6   \n",
              "\n",
              "   mobile_wt  n_cores  ...  px_height  px_width   ram  sc_h  sc_w  talk_time  \\\n",
              "0        188        2  ...         20       756  2549     9     7         19   \n",
              "1        136        3  ...        905      1988  2631    17     3          7   \n",
              "2        145        5  ...       1263      1716  2603    11     2          9   \n",
              "3        131        6  ...       1216      1786  2769    16     8         11   \n",
              "4        141        2  ...       1208      1212  1411     8     2         15   \n",
              "\n",
              "   three_g  touch_screen  wifi  price_range  \n",
              "0        0             0     1            1  \n",
              "1        1             1     0            2  \n",
              "2        1             1     0            2  \n",
              "3        1             0     0            2  \n",
              "4        1             1     0            1  \n",
              "\n",
              "[5 rows x 21 columns]"
            ]
          },
          "execution_count": 3,
          "metadata": {},
          "output_type": "execute_result"
        }
      ],
      "source": [
        "df=pd.read_csv('train (1).csv')\n",
        "df.head()"
      ]
    },
    {
      "cell_type": "code",
      "execution_count": 4,
      "id": "ee3719be",
      "metadata": {
        "colab": {
          "base_uri": "https://localhost:8080/"
        },
        "id": "ee3719be",
        "outputId": "7952abce-761f-4558-e1a5-4aa0b3b3cd37"
      },
      "outputs": [
        {
          "name": "stdout",
          "output_type": "stream",
          "text": [
            "Columns List Index(['battery_power', 'blue', 'clock_speed', 'dual_sim', 'fc', 'four_g',\n",
            "       'int_memory', 'm_dep', 'mobile_wt', 'n_cores', 'pc', 'px_height',\n",
            "       'px_width', 'ram', 'sc_h', 'sc_w', 'talk_time', 'three_g',\n",
            "       'touch_screen', 'wifi', 'price_range'],\n",
            "      dtype='object')\n",
            "Rows and Columns count (2000, 21)\n"
          ]
        }
      ],
      "source": [
        "print('Columns List',df.columns)\n",
        "print(\"Rows and Columns count\",df.shape)"
      ]
    },
    {
      "cell_type": "code",
      "execution_count": 5,
      "id": "d47f4f46",
      "metadata": {
        "colab": {
          "base_uri": "https://localhost:8080/"
        },
        "id": "d47f4f46",
        "outputId": "80b9b28d-aeca-4699-c07f-ceac3551a6c9"
      },
      "outputs": [
        {
          "data": {
            "text/plain": [
              "price_range      1.000000\n",
              "ram              0.917046\n",
              "battery_power    0.200723\n",
              "px_width         0.165818\n",
              "px_height        0.148858\n",
              "int_memory       0.044435\n",
              "sc_w             0.038711\n",
              "pc               0.033599\n",
              "three_g          0.023611\n",
              "sc_h             0.022986\n",
              "fc               0.021998\n",
              "talk_time        0.021859\n",
              "blue             0.020573\n",
              "wifi             0.018785\n",
              "dual_sim         0.017444\n",
              "four_g           0.014772\n",
              "n_cores          0.004399\n",
              "m_dep            0.000853\n",
              "clock_speed     -0.006606\n",
              "mobile_wt       -0.030302\n",
              "touch_screen    -0.030411\n",
              "Name: price_range, dtype: float64"
            ]
          },
          "execution_count": 5,
          "metadata": {},
          "output_type": "execute_result"
        }
      ],
      "source": [
        "#price range correlation\n",
        "corr=df.corr()\n",
        "corr.sort_values(by=[\"price_range\"],ascending=False).iloc[0].sort_values(ascending=False)"
      ]
    },
    {
      "cell_type": "code",
      "execution_count": 6,
      "id": "bfdb48b0",
      "metadata": {
        "colab": {
          "base_uri": "https://localhost:8080/"
        },
        "id": "bfdb48b0",
        "outputId": "f5f373b2-e9ca-48cc-b0e2-32eede5943b9"
      },
      "outputs": [
        {
          "data": {
            "text/plain": [
              "price_range\n",
              "1    500\n",
              "2    500\n",
              "3    500\n",
              "0    500\n",
              "Name: count, dtype: int64"
            ]
          },
          "execution_count": 6,
          "metadata": {},
          "output_type": "execute_result"
        }
      ],
      "source": [
        "df['price_range'].value_counts()"
      ]
    },
    {
      "cell_type": "code",
      "execution_count": 7,
      "id": "250959a2",
      "metadata": {
        "id": "250959a2"
      },
      "outputs": [],
      "source": [
        "y = df[\"price_range\"].values\n",
        "x=df.drop([\"price_range\"],axis=1)\n",
        "from sklearn.model_selection import train_test_split\n",
        "x_train, x_test, y_train, y_test = train_test_split(x,y,test_size = 0.2,random_state=45)"
      ]
    },
    {
      "cell_type": "code",
      "execution_count": 8,
      "id": "30e74b1a",
      "metadata": {
        "colab": {
          "base_uri": "https://localhost:8080/"
        },
        "id": "30e74b1a",
        "outputId": "f12658c7-f612-492c-86e4-71864e0abbfc"
      },
      "outputs": [
        {
          "name": "stdout",
          "output_type": "stream",
          "text": [
            "Collecting yellowbrick\n",
            "  Downloading yellowbrick-1.5-py3-none-any.whl (282 kB)\n",
            "     ---------------------------------------- 0.0/282.6 kB ? eta -:--:--\n",
            "     - -------------------------------------- 10.2/282.6 kB ? eta -:--:--\n",
            "     ----- ------------------------------- 41.0/282.6 kB 487.6 kB/s eta 0:00:01\n",
            "     ----------------------- -------------- 174.1/282.6 kB 1.3 MB/s eta 0:00:01\n",
            "     -------------------------------------- 282.6/282.6 kB 1.7 MB/s eta 0:00:00\n",
            "Requirement already satisfied: matplotlib!=3.0.0,>=2.0.2 in c:\\users\\admin\\anaconda3\\lib\\site-packages (from yellowbrick) (3.7.2)\n",
            "Requirement already satisfied: scipy>=1.0.0 in c:\\users\\admin\\anaconda3\\lib\\site-packages (from yellowbrick) (1.11.1)\n",
            "Requirement already satisfied: scikit-learn>=1.0.0 in c:\\users\\admin\\anaconda3\\lib\\site-packages (from yellowbrick) (1.3.0)\n",
            "Requirement already satisfied: numpy>=1.16.0 in c:\\users\\admin\\anaconda3\\lib\\site-packages (from yellowbrick) (1.24.3)\n",
            "Requirement already satisfied: cycler>=0.10.0 in c:\\users\\admin\\anaconda3\\lib\\site-packages (from yellowbrick) (0.11.0)\n",
            "Requirement already satisfied: contourpy>=1.0.1 in c:\\users\\admin\\anaconda3\\lib\\site-packages (from matplotlib!=3.0.0,>=2.0.2->yellowbrick) (1.0.5)\n",
            "Requirement already satisfied: fonttools>=4.22.0 in c:\\users\\admin\\anaconda3\\lib\\site-packages (from matplotlib!=3.0.0,>=2.0.2->yellowbrick) (4.25.0)\n",
            "Requirement already satisfied: kiwisolver>=1.0.1 in c:\\users\\admin\\anaconda3\\lib\\site-packages (from matplotlib!=3.0.0,>=2.0.2->yellowbrick) (1.4.4)\n",
            "Requirement already satisfied: packaging>=20.0 in c:\\users\\admin\\anaconda3\\lib\\site-packages (from matplotlib!=3.0.0,>=2.0.2->yellowbrick) (23.1)\n",
            "Requirement already satisfied: pillow>=6.2.0 in c:\\users\\admin\\anaconda3\\lib\\site-packages (from matplotlib!=3.0.0,>=2.0.2->yellowbrick) (9.4.0)\n",
            "Requirement already satisfied: pyparsing<3.1,>=2.3.1 in c:\\users\\admin\\anaconda3\\lib\\site-packages (from matplotlib!=3.0.0,>=2.0.2->yellowbrick) (3.0.9)\n",
            "Requirement already satisfied: python-dateutil>=2.7 in c:\\users\\admin\\anaconda3\\lib\\site-packages (from matplotlib!=3.0.0,>=2.0.2->yellowbrick) (2.8.2)\n",
            "Requirement already satisfied: joblib>=1.1.1 in c:\\users\\admin\\anaconda3\\lib\\site-packages (from scikit-learn>=1.0.0->yellowbrick) (1.2.0)\n",
            "Requirement already satisfied: threadpoolctl>=2.0.0 in c:\\users\\admin\\anaconda3\\lib\\site-packages (from scikit-learn>=1.0.0->yellowbrick) (2.2.0)\n",
            "Requirement already satisfied: six>=1.5 in c:\\users\\admin\\anaconda3\\lib\\site-packages (from python-dateutil>=2.7->matplotlib!=3.0.0,>=2.0.2->yellowbrick) (1.16.0)\n",
            "Installing collected packages: yellowbrick\n",
            "Successfully installed yellowbrick-1.5\n"
          ]
        }
      ],
      "source": [
        "!pip install yellowbrick"
      ]
    },
    {
      "cell_type": "code",
      "execution_count": 9,
      "id": "76c14d9b",
      "metadata": {
        "colab": {
          "base_uri": "https://localhost:8080/",
          "height": 521
        },
        "id": "76c14d9b",
        "outputId": "ebf6a347-e1f0-49cc-e751-0ad3440e1187"
      },
      "outputs": [
        {
          "data": {
            "image/png": "[encoded data removed]",
            "text/plain": [
              "<Figure size 800x550 with 1 Axes>"
            ]
          },
          "metadata": {},
          "output_type": "display_data"
        },
        {
          "data": {
            "text/plain": [
              "<Axes: title={'center': 'Class Balance for 2,000 Instances'}, ylabel='support'>"
            ]
          },
          "execution_count": 9,
          "metadata": {},
          "output_type": "execute_result"
        }
      ],
      "source": [
        "from yellowbrick.target import ClassBalance\n",
        "visualizer = ClassBalance(labels=[0, 1, 2,3])\n",
        "visualizer.fit(y_train, y_test)\n",
        "visualizer.poof()"
      ]
    },
    {
      "cell_type": "code",
      "execution_count": 10,
      "id": "7f6ef1c4",
      "metadata": {
        "colab": {
          "base_uri": "https://localhost:8080/"
        },
        "id": "7f6ef1c4",
        "outputId": "b19e7804-a16d-4544-fa1a-cade3273b920"
      },
      "outputs": [
        {
          "name": "stdout",
          "output_type": "stream",
          "text": [
            "train accuracy: 0.951875\n",
            "test accuracy: 0.96\n",
            "Model accuracy score with default hyperparameters: 0.9600\n"
          ]
        }
      ],
      "source": [
        "#First Model\n",
        "from sklearn.svm import SVC\n",
        "svm1=SVC(random_state=45)\n",
        "svm1.fit(x_train,y_train)\n",
        "y_pred=svm1.predict(x_test)\n",
        "print(\"train accuracy:\",svm1.score(x_train,y_train))\n",
        "print(\"test accuracy:\",svm1.score(x_test,y_test))\n",
        "from sklearn.metrics import accuracy_score\n",
        "acc1=accuracy_score(y_test, y_pred)\n",
        "print('Model accuracy score with default hyperparameters: {0:0.4f}'. format(acc1))"
      ]
    },
    {
      "cell_type": "code",
      "execution_count": 11,
      "id": "Gtzs6F20o98X",
      "metadata": {
        "colab": {
          "base_uri": "https://localhost:8080/",
          "height": 484
        },
        "id": "Gtzs6F20o98X",
        "outputId": "13167afd-7c3b-4863-9331-e71a3f5796f1"
      },
      "outputs": [
        {
          "data": {
            "image/png": "[encoded data removed]",
            "text/plain": [
              "<Figure size 800x550 with 2 Axes>"
            ]
          },
          "metadata": {},
          "output_type": "display_data"
        }
      ],
      "source": [
        "cm = confusion_matrix(y_test, y_pred)\n",
        "sns.heatmap(cm, annot=True)\n",
        "plt.show()"
      ]
    },
    {
      "cell_type": "code",
      "execution_count": 12,
      "id": "1838601b",
      "metadata": {
        "colab": {
          "base_uri": "https://localhost:8080/",
          "height": 503
        },
        "id": "1838601b",
        "outputId": "0b9f4ddf-89b6-45ed-d784-f6c023bb2605"
      },
      "outputs": [
        {
          "data": {
            "image/png": "[encoded data removed]",
            "text/plain": [
              "<Figure size 800x550 with 1 Axes>"
            ]
          },
          "metadata": {},
          "output_type": "display_data"
        }
      ],
      "source": [
        "#Feature Selection\n",
        "from sklearn.feature_selection import SelectKBest\n",
        "from sklearn.feature_selection import f_classif\n",
        "accuracy_list_train = []\n",
        "k=np.arange(1,21,1)\n",
        "for each in k:\n",
        "    x_new = SelectKBest(f_classif, k=each).fit_transform(x_train, y_train)\n",
        "    svm1.fit(x_new,y_train)\n",
        "    accuracy_list_train.append(svm1.score(x_new,y_train))\n",
        "\n",
        "plt.plot(k,accuracy_list_train,color=\"green\",label=\"train\")\n",
        "plt.xlabel(\"k values\")\n",
        "plt.ylabel(\"train accuracy\")\n",
        "plt.legend()\n",
        "plt.show()"
      ]
    },
    {
      "cell_type": "code",
      "execution_count": 13,
      "id": "6a5042ce",
      "metadata": {
        "colab": {
          "base_uri": "https://localhost:8080/"
        },
        "id": "6a5042ce",
        "outputId": "4a780d93-f58b-4a50-e9b0-3925947c9fc4"
      },
      "outputs": [
        {
          "name": "stdout",
          "output_type": "stream",
          "text": [
            "max accuracy: 0.95625\n",
            "max accuracy id: 5\n"
          ]
        }
      ],
      "source": [
        "#In the graph above, we can see 4 or 5 features gives higher train accuracies.\n",
        "d = {'best features number': k, 'train_score': accuracy_list_train}\n",
        "df = pd.DataFrame(data=d)\n",
        "print(\"max accuracy:\",df[\"train_score\"].max())\n",
        "print(\"max accuracy id:\",df[\"train_score\"].idxmax())"
      ]
    },
    {
      "cell_type": "code",
      "execution_count": 14,
      "id": "e3da725d",
      "metadata": {
        "colab": {
          "base_uri": "https://localhost:8080/"
        },
        "id": "e3da725d",
        "outputId": "041ba65d-22f8-4174-af23-e2811198c25b"
      },
      "outputs": [
        {
          "name": "stdout",
          "output_type": "stream",
          "text": [
            " max accuracy values: \n",
            " best features number    6.00000\n",
            "train_score             0.95625\n",
            "Name: 5, dtype: float64\n"
          ]
        }
      ],
      "source": [
        "print(\" max accuracy values: \\n\", df.iloc[5])"
      ]
    },
    {
      "cell_type": "code",
      "execution_count": 15,
      "id": "affad137",
      "metadata": {
        "colab": {
          "base_uri": "https://localhost:8080/"
        },
        "id": "affad137",
        "outputId": "ab9f7323-1eb2-4464-e839-6459c0c124e7"
      },
      "outputs": [
        {
          "name": "stdout",
          "output_type": "stream",
          "text": [
            "x train features: ['battery_power' 'px_height' 'px_width' 'ram' 'talk_time' 'touch_screen']\n",
            "x test features: ['battery_power' 'px_height' 'px_width' 'ram' 'talk_time' 'touch_screen']\n"
          ]
        }
      ],
      "source": [
        "#Use 6 features because it has the highest accuracy.\n",
        "selector = SelectKBest(f_classif, k = 6)\n",
        "x_new = selector.fit_transform(x_train, y_train)\n",
        "x_new_test=selector.fit_transform(x_test,y_test)\n",
        "names_train = x_train.columns.values[selector.get_support()]\n",
        "names_test = x_test.columns.values[selector.get_support()]\n",
        "print(\"x train features:\",names_train)\n",
        "print(\"x test features:\",names_test)"
      ]
    },
    {
      "cell_type": "code",
      "execution_count": 16,
      "id": "ba05f5d9",
      "metadata": {
        "colab": {
          "base_uri": "https://localhost:8080/"
        },
        "id": "ba05f5d9",
        "outputId": "8092b130-d861-427d-fe2d-f96e6f2dcd40"
      },
      "outputs": [
        {
          "name": "stdout",
          "output_type": "stream",
          "text": [
            "Model accuracy score with default hyperparameters: 0.2600\n"
          ]
        }
      ],
      "source": [
        "# instantiate classifier with default hyperparameters\n",
        "from sklearn.metrics import accuracy_score\n",
        "svc=SVC()\n",
        "# fit classifier to training set\n",
        "svc.fit(x_new,y_train)\n",
        "# make predictions on test set\n",
        "y_pred=svc.predict(x_new_test)\n",
        "# compute and print accuracy score\n",
        "acc2=accuracy_score(y_test, y_pred)\n",
        "print('Model accuracy score with default hyperparameters: {0:0.4f}'. format(acc2))"
      ]
    },
    {
      "cell_type": "code",
      "execution_count": 17,
      "id": "ZbMLiAiZriwo",
      "metadata": {
        "colab": {
          "base_uri": "https://localhost:8080/",
          "height": 484
        },
        "id": "ZbMLiAiZriwo",
        "outputId": "ca0b665a-87a0-4beb-c106-1e3b5aee1e2b"
      },
      "outputs": [
        {
          "data": {
            "image/png": "[encoded data removed]",
            "text/plain": [
              "<Figure size 800x550 with 2 Axes>"
            ]
          },
          "metadata": {},
          "output_type": "display_data"
        }
      ],
      "source": [
        "cm = confusion_matrix(y_test, y_pred)\n",
        "sns.heatmap(cm, annot=True)\n",
        "plt.show()"
      ]
    },
    {
      "cell_type": "code",
      "execution_count": 18,
      "id": "GS5D9l5Fekqo",
      "metadata": {
        "colab": {
          "base_uri": "https://localhost:8080/"
        },
        "id": "GS5D9l5Fekqo",
        "outputId": "15b318f9-81d1-409a-bf54-16f7fec931cf"
      },
      "outputs": [
        {
          "name": "stdout",
          "output_type": "stream",
          "text": [
            "Model accuracy score with C=100 and kernel =rbf hyperparameters: 0.9600\n"
          ]
        }
      ],
      "source": [
        "# instantiate classifier with default hyperparameters\n",
        "from sklearn.metrics import accuracy_score\n",
        "rbfsvm=SVC(kernel=\"rbf\",C=2)\n",
        "# fit classifier to training set\n",
        "rbfsvm.fit(x_train,y_train)\n",
        "# make predictions on test set\n",
        "y_pred=rbfsvm.predict(x_test)\n",
        "# compute and print accuracy score\n",
        "acc3=accuracy_score(y_test, y_pred)\n",
        "print('Model accuracy score with C=100 and kernel =rbf hyperparameters: {0:0.4f}'. format(acc3))"
      ]
    },
    {
      "cell_type": "code",
      "execution_count": 19,
      "id": "0rgGt_1krkvi",
      "metadata": {
        "colab": {
          "base_uri": "https://localhost:8080/",
          "height": 484
        },
        "id": "0rgGt_1krkvi",
        "outputId": "cf32b22e-37c6-4ca2-bbeb-b3ba6813805f"
      },
      "outputs": [
        {
          "data": {
            "image/png": "[encoded data removed]",
            "text/plain": [
              "<Figure size 800x550 with 2 Axes>"
            ]
          },
          "metadata": {},
          "output_type": "display_data"
        }
      ],
      "source": [
        "cm = confusion_matrix(y_test, y_pred)\n",
        "sns.heatmap(cm, annot=True)\n",
        "plt.show()"
      ]
    },
    {
      "cell_type": "code",
      "execution_count": null,
      "id": "7qN4wlgauJRx",
      "metadata": {
        "id": "7qN4wlgauJRx"
      },
      "outputs": [],
      "source": []
    },
    {
      "cell_type": "code",
      "execution_count": 20,
      "id": "qCAzGWFsezNn",
      "metadata": {
        "colab": {
          "base_uri": "https://localhost:8080/"
        },
        "id": "qCAzGWFsezNn",
        "outputId": "846c27a9-2f52-4cba-f0d4-21a5753e78b2"
      },
      "outputs": [
        {
          "name": "stdout",
          "output_type": "stream",
          "text": [
            "Model accuracy score with kernel=\"poly\",C=100 hyperparameters: 0.9650\n"
          ]
        }
      ],
      "source": [
        "# instantiate classifier with default hyperparameters\n",
        "from sklearn.metrics import accuracy_score\n",
        "polysvc=SVC(kernel=\"poly\",C=100)\n",
        "# fit classifier to training set\n",
        "polysvc.fit(x_train,y_train)\n",
        "# make predictions on test set\n",
        "y_pred=polysvc.predict(x_test)\n",
        "# compute and print accuracy score\n",
        "acc4=accuracy_score(y_test, y_pred)\n",
        "print('Model accuracy score with kernel=\"poly\",C=100 hyperparameters: {0:0.4f}'. format(acc4))"
      ]
    },
    {
      "cell_type": "code",
      "execution_count": 21,
      "id": "71XA8_w7_E6O",
      "metadata": {
        "colab": {
          "base_uri": "https://localhost:8080/",
          "height": 484
        },
        "id": "71XA8_w7_E6O",
        "outputId": "abdf2cc3-3c0a-4619-be91-870c4558db09"
      },
      "outputs": [
        {
          "data": {
            "image/png": "[encoded data removed]",
            "text/plain": [
              "<Figure size 800x550 with 2 Axes>"
            ]
          },
          "metadata": {},
          "output_type": "display_data"
        }
      ],
      "source": [
        "cm = confusion_matrix(y_test, y_pred)\n",
        "sns.heatmap(cm, annot=True)\n",
        "plt.show()"
      ]
    },
    {
      "cell_type": "code",
      "execution_count": 22,
      "id": "F-QdRjvUuAxD",
      "metadata": {
        "colab": {
          "base_uri": "https://localhost:8080/"
        },
        "id": "F-QdRjvUuAxD",
        "outputId": "b820b200-f93f-4e51-8c08-848e6268a99a"
      },
      "outputs": [
        {
          "name": "stdout",
          "output_type": "stream",
          "text": [
            "^C\n"
          ]
        }
      ],
      "source": [
        "!pip install texttable"
      ]
    },
    {
      "cell_type": "code",
      "execution_count": 24,
      "id": "Qcj2hr-UuN3p",
      "metadata": {
        "colab": {
          "base_uri": "https://localhost:8080/"
        },
        "id": "Qcj2hr-UuN3p",
        "outputId": "faa931d4-28fc-47ad-f2d7-f5d0966125f3"
      },
      "outputs": [
        {
          "name": "stdout",
          "output_type": "stream",
          "text": [
            "+------------------------+----------+\n",
            "|         Model          | Accuracy |\n",
            "+========================+==========+\n",
            "| SVM                    | 0.960    |\n",
            "+------------------------+----------+\n",
            "| SVM(selected features) | 0.260    |\n",
            "+------------------------+----------+\n",
            "| RBF SVM                | 0.960    |\n",
            "+------------------------+----------+\n",
            "| SVM                    | 0.965    |\n",
            "+------------------------+----------+\n"
          ]
        }
      ],
      "source": [
        "from texttable import Texttable\n",
        "t = Texttable()\n",
        "t.add_rows([['Model', 'Accuracy'], ['SVM',acc1],['SVM(selected features)',acc2],['RBF SVM',acc3],\n",
        "           ['SVM',acc4]])\n",
        "print(t.draw())"
      ]
    },
    {
      "cell_type": "code",
      "execution_count": null,
      "id": "47dabed7",
      "metadata": {},
      "outputs": [],
      "source": []
    }
  ],
  "metadata": {
    "accelerator": "GPU",
    "colab": {
      "provenance": []
    },
    "kernelspec": {
      "display_name": "Python 3",
      "name": "python3"
    },
    "language_info": {
      "codemirror_mode": {
        "name": "ipython",
        "version": 3
      },
      "file_extension": ".py",
      "mimetype": "text/x-python",
      "name": "python",
      "nbconvert_exporter": "python",
      "pygments_lexer": "ipython3",
      "version": "3.11.5"
    }
  },
  "nbformat": 4,
  "nbformat_minor": 5
}
