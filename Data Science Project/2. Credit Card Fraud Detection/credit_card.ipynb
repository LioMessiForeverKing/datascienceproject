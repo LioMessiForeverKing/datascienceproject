{
 "cells": [
  {
   "cell_type": "code",
   "execution_count": 1,
   "metadata": {},
   "outputs": [],
   "source": [
    "# important Libraries\n",
    "import pandas as pd\n",
    "import numpy as np\n",
    "from sklearn.model_selection import train_test_split\n",
    "from sklearn.linear_model import LogisticRegression\n",
    "from sklearn.metrics import accuracy_score"
   ]
  },
  {
   "cell_type": "code",
   "execution_count": 3,
   "metadata": {},
   "outputs": [],
   "source": [
    "data = pd.read_csv(\"creditcard.csv\")"
   ]
  },
  {
   "cell_type": "code",
   "execution_count": 4,
   "metadata": {},
   "outputs": [
    {
     "name": "stdout",
     "output_type": "stream",
     "text": [
      "   Time        V1        V2        V3        V4        V5        V6        V7   \n",
      "0   0.0 -1.359807 -0.072781  2.536347  1.378155 -0.338321  0.462388  0.239599  \\\n",
      "1   0.0  1.191857  0.266151  0.166480  0.448154  0.060018 -0.082361 -0.078803   \n",
      "2   1.0 -1.358354 -1.340163  1.773209  0.379780 -0.503198  1.800499  0.791461   \n",
      "3   1.0 -0.966272 -0.185226  1.792993 -0.863291 -0.010309  1.247203  0.237609   \n",
      "4   2.0 -1.158233  0.877737  1.548718  0.403034 -0.407193  0.095921  0.592941   \n",
      "\n",
      "         V8        V9  ...       V21       V22       V23       V24       V25   \n",
      "0  0.098698  0.363787  ... -0.018307  0.277838 -0.110474  0.066928  0.128539  \\\n",
      "1  0.085102 -0.255425  ... -0.225775 -0.638672  0.101288 -0.339846  0.167170   \n",
      "2  0.247676 -1.514654  ...  0.247998  0.771679  0.909412 -0.689281 -0.327642   \n",
      "3  0.377436 -1.387024  ... -0.108300  0.005274 -0.190321 -1.175575  0.647376   \n",
      "4 -0.270533  0.817739  ... -0.009431  0.798278 -0.137458  0.141267 -0.206010   \n",
      "\n",
      "        V26       V27       V28  Amount  Class  \n",
      "0 -0.189115  0.133558 -0.021053  149.62      0  \n",
      "1  0.125895 -0.008983  0.014724    2.69      0  \n",
      "2 -0.139097 -0.055353 -0.059752  378.66      0  \n",
      "3 -0.221929  0.062723  0.061458  123.50      0  \n",
      "4  0.502292  0.219422  0.215153   69.99      0  \n",
      "\n",
      "[5 rows x 31 columns]\n"
     ]
    }
   ],
   "source": [
    "print(data.head())"
   ]
  },
  {
   "cell_type": "code",
   "execution_count": 5,
   "metadata": {},
   "outputs": [
    {
     "name": "stdout",
     "output_type": "stream",
     "text": [
      "<class 'pandas.core.frame.DataFrame'>\n",
      "RangeIndex: 284807 entries, 0 to 284806\n",
      "Data columns (total 31 columns):\n",
      " #   Column  Non-Null Count   Dtype  \n",
      "---  ------  --------------   -----  \n",
      " 0   Time    284807 non-null  float64\n",
      " 1   V1      284807 non-null  float64\n",
      " 2   V2      284807 non-null  float64\n",
      " 3   V3      284807 non-null  float64\n",
      " 4   V4      284807 non-null  float64\n",
      " 5   V5      284807 non-null  float64\n",
      " 6   V6      284807 non-null  float64\n",
      " 7   V7      284807 non-null  float64\n",
      " 8   V8      284807 non-null  float64\n",
      " 9   V9      284807 non-null  float64\n",
      " 10  V10     284807 non-null  float64\n",
      " 11  V11     284807 non-null  float64\n",
      " 12  V12     284807 non-null  float64\n",
      " 13  V13     284807 non-null  float64\n",
      " 14  V14     284807 non-null  float64\n",
      " 15  V15     284807 non-null  float64\n",
      " 16  V16     284807 non-null  float64\n",
      " 17  V17     284807 non-null  float64\n",
      " 18  V18     284807 non-null  float64\n",
      " 19  V19     284807 non-null  float64\n",
      " 20  V20     284807 non-null  float64\n",
      " 21  V21     284807 non-null  float64\n",
      " 22  V22     284807 non-null  float64\n",
      " 23  V23     284807 non-null  float64\n",
      " 24  V24     284807 non-null  float64\n",
      " 25  V25     284807 non-null  float64\n",
      " 26  V26     284807 non-null  float64\n",
      " 27  V27     284807 non-null  float64\n",
      " 28  V28     284807 non-null  float64\n",
      " 29  Amount  284807 non-null  float64\n",
      " 30  Class   284807 non-null  int64  \n",
      "dtypes: float64(30), int64(1)\n",
      "memory usage: 67.4 MB\n",
      "None\n"
     ]
    }
   ],
   "source": [
    "print(data.info())"
   ]
  },
  {
   "cell_type": "code",
   "execution_count": 6,
   "metadata": {},
   "outputs": [
    {
     "name": "stdout",
     "output_type": "stream",
     "text": [
      "Time      0\n",
      "V1        0\n",
      "V2        0\n",
      "V3        0\n",
      "V4        0\n",
      "V5        0\n",
      "V6        0\n",
      "V7        0\n",
      "V8        0\n",
      "V9        0\n",
      "V10       0\n",
      "V11       0\n",
      "V12       0\n",
      "V13       0\n",
      "V14       0\n",
      "V15       0\n",
      "V16       0\n",
      "V17       0\n",
      "V18       0\n",
      "V19       0\n",
      "V20       0\n",
      "V21       0\n",
      "V22       0\n",
      "V23       0\n",
      "V24       0\n",
      "V25       0\n",
      "V26       0\n",
      "V27       0\n",
      "V28       0\n",
      "Amount    0\n",
      "Class     0\n",
      "dtype: int64\n"
     ]
    }
   ],
   "source": [
    "# missing value in the dataset\n",
    "print(data.isnull().sum())"
   ]
  },
  {
   "cell_type": "code",
   "execution_count": 7,
   "metadata": {},
   "outputs": [
    {
     "name": "stdout",
     "output_type": "stream",
     "text": [
      "Class\n",
      "0    284315\n",
      "1       492\n",
      "Name: count, dtype: int64\n"
     ]
    }
   ],
   "source": [
    "# Distribution of normal and fraud transactions\n",
    "print(data['Class'].value_counts())"
   ]
  },
  {
   "cell_type": "code",
   "execution_count": 10,
   "metadata": {},
   "outputs": [],
   "source": [
    "# seprate the data\n",
    "normal = data[data.Class==0]\n",
    "fraud = data[data.Class==1]"
   ]
  },
  {
   "cell_type": "code",
   "execution_count": 11,
   "metadata": {},
   "outputs": [
    {
     "name": "stdout",
     "output_type": "stream",
     "text": [
      "(284315, 31)\n"
     ]
    }
   ],
   "source": [
    "print(normal.shape)\n"
   ]
  },
  {
   "cell_type": "code",
   "execution_count": 12,
   "metadata": {},
   "outputs": [
    {
     "name": "stdout",
     "output_type": "stream",
     "text": [
      "(492, 31)\n"
     ]
    }
   ],
   "source": [
    "print(fraud.shape)"
   ]
  },
  {
   "cell_type": "code",
   "execution_count": 13,
   "metadata": {},
   "outputs": [],
   "source": [
    "# Building new Normal dataset containing similar distribution of normal and fraud transaction\n",
    "normal_sample= normal.sample(n=492)"
   ]
  },
  {
   "cell_type": "code",
   "execution_count": 14,
   "metadata": {},
   "outputs": [],
   "source": [
    "#Condatenating the two dataset"
   ]
  },
  {
   "cell_type": "code",
   "execution_count": 15,
   "metadata": {},
   "outputs": [],
   "source": [
    "new_dataset = pd.concat([normal_sample,fraud],axis=0)"
   ]
  },
  {
   "cell_type": "code",
   "execution_count": 19,
   "metadata": {},
   "outputs": [
    {
     "name": "stdout",
     "output_type": "stream",
     "text": [
      "            Time        V1        V2        V3        V4        V5        V6   \n",
      "164448  116721.0  1.986605 -0.284691 -0.298101  0.336718 -0.659719 -0.799912  \\\n",
      "169021  119489.0  2.320447 -1.301157 -0.816641 -1.583716 -1.190622 -0.518687   \n",
      "40613    40317.0 -0.423882  1.067629  1.294850 -0.109265  0.308827 -0.175110   \n",
      "49656    44152.0 -0.396845  0.881146  1.812273 -0.124597 -0.008582 -0.639788   \n",
      "4593      3945.0 -1.476588  0.208667 -0.556085 -0.107826 -1.722552  0.879064   \n",
      "\n",
      "              V7        V8        V9  ...       V21       V22       V23   \n",
      "164448 -0.361154 -0.171338  0.882545  ... -0.245731 -0.578268  0.424240  \\\n",
      "169021 -1.193415 -0.180967 -1.188926  ... -0.167729  0.066457  0.287609   \n",
      "40613   0.562237  0.188244 -0.722695  ... -0.180142 -0.427905 -0.004255   \n",
      "49656   0.847876 -0.152882 -0.519462  ... -0.207629 -0.423261 -0.017994   \n",
      "4593    3.428826 -0.521704  0.937382  ... -0.212722  0.148450  0.620162   \n",
      "\n",
      "             V24       V25       V26       V27       V28  Amount  Class  \n",
      "164448  0.060598 -0.620603  0.225804 -0.034940 -0.039762   17.49      0  \n",
      "169021  0.727116 -0.203784 -0.211832  0.022202 -0.040606    4.00      0  \n",
      "40613  -0.021736 -0.249094  0.082871  0.261264  0.085498    3.08      0  \n",
      "49656   0.513645 -0.274427  0.012428  0.093482 -0.109340   15.78      0  \n",
      "4593   -0.435439 -0.071199  0.289567  0.213096 -0.261854  643.33      0  \n",
      "\n",
      "[5 rows x 31 columns]\n"
     ]
    }
   ],
   "source": [
    "print(new_dataset.head())"
   ]
  },
  {
   "cell_type": "code",
   "execution_count": 20,
   "metadata": {},
   "outputs": [
    {
     "name": "stdout",
     "output_type": "stream",
     "text": [
      "(984, 31)\n"
     ]
    }
   ],
   "source": [
    "print(new_dataset.shape)"
   ]
  },
  {
   "cell_type": "code",
   "execution_count": 21,
   "metadata": {},
   "outputs": [],
   "source": [
    "#spliting the new_Dataset into X and Y\n",
    "x = new_dataset.drop(columns='Class',axis=1)\n",
    "y = new_dataset['Class']"
   ]
  },
  {
   "cell_type": "code",
   "execution_count": 22,
   "metadata": {},
   "outputs": [
    {
     "name": "stdout",
     "output_type": "stream",
     "text": [
      "            Time        V1        V2        V3        V4        V5        V6   \n",
      "164448  116721.0  1.986605 -0.284691 -0.298101  0.336718 -0.659719 -0.799912  \\\n",
      "169021  119489.0  2.320447 -1.301157 -0.816641 -1.583716 -1.190622 -0.518687   \n",
      "40613    40317.0 -0.423882  1.067629  1.294850 -0.109265  0.308827 -0.175110   \n",
      "49656    44152.0 -0.396845  0.881146  1.812273 -0.124597 -0.008582 -0.639788   \n",
      "4593      3945.0 -1.476588  0.208667 -0.556085 -0.107826 -1.722552  0.879064   \n",
      "...          ...       ...       ...       ...       ...       ...       ...   \n",
      "279863  169142.0 -1.927883  1.125653 -4.518331  1.749293 -1.566487 -2.010494   \n",
      "280143  169347.0  1.378559  1.289381 -5.004247  1.411850  0.442581 -1.326536   \n",
      "280149  169351.0 -0.676143  1.126366 -2.213700  0.468308 -1.120541 -0.003346   \n",
      "281144  169966.0 -3.113832  0.585864 -5.399730  1.817092 -0.840618 -2.943548   \n",
      "281674  170348.0  1.991976  0.158476 -2.583441  0.408670  1.151147 -0.096695   \n",
      "\n",
      "              V7        V8        V9  ...       V20       V21       V22   \n",
      "164448 -0.361154 -0.171338  0.882545  ... -0.113254 -0.245731 -0.578268  \\\n",
      "169021 -1.193415 -0.180967 -1.188926  ... -0.395599 -0.167729  0.066457   \n",
      "40613   0.562237  0.188244 -0.722695  ...  0.118995 -0.180142 -0.427905   \n",
      "49656   0.847876 -0.152882 -0.519462  ...  0.197152 -0.207629 -0.423261   \n",
      "4593    3.428826 -0.521704  0.937382  ...  0.024803 -0.212722  0.148450   \n",
      "...          ...       ...       ...  ...       ...       ...       ...   \n",
      "279863 -0.882850  0.697211 -2.064945  ...  1.252967  0.778584 -0.319189   \n",
      "280143 -1.413170  0.248525 -1.127396  ...  0.226138  0.370612  0.028234   \n",
      "280149 -2.234739  1.210158 -0.652250  ...  0.247968  0.751826  0.834108   \n",
      "281144 -2.208002  1.058733 -1.632333  ...  0.306271  0.583276 -0.269209   \n",
      "281674  0.223050 -0.068384  0.577829  ... -0.017652 -0.164350 -0.295135   \n",
      "\n",
      "             V23       V24       V25       V26       V27       V28  Amount  \n",
      "164448  0.424240  0.060598 -0.620603  0.225804 -0.034940 -0.039762   17.49  \n",
      "169021  0.287609  0.727116 -0.203784 -0.211832  0.022202 -0.040606    4.00  \n",
      "40613  -0.004255 -0.021736 -0.249094  0.082871  0.261264  0.085498    3.08  \n",
      "49656  -0.017994  0.513645 -0.274427  0.012428  0.093482 -0.109340   15.78  \n",
      "4593    0.620162 -0.435439 -0.071199  0.289567  0.213096 -0.261854  643.33  \n",
      "...          ...       ...       ...       ...       ...       ...     ...  \n",
      "279863  0.639419 -0.294885  0.537503  0.788395  0.292680  0.147968  390.00  \n",
      "280143 -0.145640 -0.081049  0.521875  0.739467  0.389152  0.186637    0.76  \n",
      "280149  0.190944  0.032070 -0.739695  0.471111  0.385107  0.194361   77.89  \n",
      "281144 -0.456108 -0.183659 -0.328168  0.606116  0.884876 -0.253700  245.00  \n",
      "281674 -0.072173 -0.450261  0.313267 -0.289617  0.002988 -0.015309   42.53  \n",
      "\n",
      "[984 rows x 30 columns]\n"
     ]
    }
   ],
   "source": [
    "print(x)"
   ]
  },
  {
   "cell_type": "code",
   "execution_count": 23,
   "metadata": {},
   "outputs": [
    {
     "name": "stdout",
     "output_type": "stream",
     "text": [
      "164448    0\n",
      "169021    0\n",
      "40613     0\n",
      "49656     0\n",
      "4593      0\n",
      "         ..\n",
      "279863    1\n",
      "280143    1\n",
      "280149    1\n",
      "281144    1\n",
      "281674    1\n",
      "Name: Class, Length: 984, dtype: int64\n"
     ]
    }
   ],
   "source": [
    "print(y)"
   ]
  },
  {
   "cell_type": "code",
   "execution_count": 24,
   "metadata": {},
   "outputs": [],
   "source": [
    "#spliting the new_Dataset into Training Data and Testing Data\n",
    "x_train,x_test,y_train,y_test = train_test_split(x,y,test_size=0.2,stratify=y,random_state=42)"
   ]
  },
  {
   "cell_type": "code",
   "execution_count": 25,
   "metadata": {},
   "outputs": [
    {
     "name": "stdout",
     "output_type": "stream",
     "text": [
      "            Time         V1         V2         V3        V4         V5   \n",
      "145289   86807.0   0.000846   0.808698   0.284955 -0.580010   0.455361  \\\n",
      "187341  127488.0  -1.121240   1.630165  -1.140808 -0.783866   1.048392   \n",
      "56703    47545.0   1.176716   0.557091  -0.490800  0.756424   0.249192   \n",
      "150684   93888.0 -10.040631   6.139183 -12.972972  7.740555  -8.684705   \n",
      "6882      8808.0  -4.617217   1.695694  -3.114372  4.328199  -1.873257   \n",
      "...          ...        ...        ...        ...       ...        ...   \n",
      "39183    39729.0  -0.964567  -1.643541  -0.187727  1.158253  -2.458336   \n",
      "20878    31328.0  -1.958463  -2.126117   1.106243 -3.617768   0.641729   \n",
      "143335   85285.0  -6.713407   3.921104  -9.746678  5.148263  -5.151563   \n",
      "60305    49263.0  -0.954048   0.627640   1.664676 -0.195736   0.532346   \n",
      "17317    28625.0 -27.848181  15.598193 -28.923756  6.418442 -20.346228   \n",
      "\n",
      "              V6         V7         V8        V9  ...       V20       V21   \n",
      "145289 -1.049945   1.002527  -0.184587 -0.055394  ... -0.017266 -0.247161  \\\n",
      "187341 -0.348272   0.567729   0.710334 -1.199761  ... -0.210815 -0.023398   \n",
      "56703  -0.781871   0.228750  -0.040840 -0.432111  ... -0.102772 -0.062166   \n",
      "150684 -3.837429 -11.907702   5.833273 -5.731054  ... -0.082275  2.823431   \n",
      "6882   -0.989908  -4.577265   0.472216  0.472017  ... -0.039046  0.481830   \n",
      "...          ...        ...        ...       ...  ...       ...       ...   \n",
      "39183   0.852222   2.785163  -0.303609  0.940006  ...  1.784449  0.447180   \n",
      "20878  -0.364390   0.138893   0.138326  0.092192  ...  0.276738 -0.160558   \n",
      "143335 -2.099389  -5.937767   3.578780 -4.684952  ...  0.135711  0.954272   \n",
      "60305  -0.961052   0.939466  -0.013052 -0.026871  ... -0.275947 -0.030446   \n",
      "17317  -4.828202 -19.210896  18.329406 -3.668735  ...  1.697856  1.802149   \n",
      "\n",
      "             V22       V23       V24       V25       V26       V27       V28   \n",
      "145289 -0.545073  0.098146 -0.019357 -0.497921  0.142998  0.247180  0.098160  \\\n",
      "187341 -0.323140 -0.114411  0.045237 -0.067389  0.301609 -0.288257 -0.011308   \n",
      "56703  -0.128168 -0.040176  0.110040  0.437891  0.368809 -0.018287  0.031173   \n",
      "150684  1.153005 -0.567343  0.843012  0.549938  0.113892 -0.307375  0.061631   \n",
      "6882    0.146023  0.117039 -0.217565 -0.138776 -0.424453 -1.002041  0.890780   \n",
      "...          ...       ...       ...       ...       ...       ...       ...   \n",
      "39183   0.536204  1.634061  0.203839  0.218749 -0.221886 -0.308555 -0.164500   \n",
      "20878  -0.632669  0.314720 -1.355175  0.855856 -0.131850 -0.073572  0.079370   \n",
      "143335 -0.451086  0.127214 -0.339450  0.394096  1.075295  1.649906 -0.394905   \n",
      "60305  -0.151145 -0.225919  0.337196  0.444034 -0.658051  0.046825  0.102939   \n",
      "17317  -2.062934 -1.269843  0.165409  1.999499 -0.211059  1.324809  0.388090   \n",
      "\n",
      "        Amount  \n",
      "145289    9.99  \n",
      "187341    6.23  \n",
      "56703     0.76  \n",
      "150684    1.00  \n",
      "6882      1.10  \n",
      "...        ...  \n",
      "39183   776.83  \n",
      "20878   239.71  \n",
      "143335  252.92  \n",
      "60305    17.84  \n",
      "17317    99.99  \n",
      "\n",
      "[787 rows x 30 columns]             Time        V1        V2        V3        V4        V5        V6   \n",
      "230076  146179.0 -0.067672  4.251181 -6.540388  7.283657  0.513541 -2.635066  \\\n",
      "262826  160665.0 -0.417340  4.700055 -7.521767  7.671884  0.260821 -2.646693   \n",
      "17547    28805.0  1.197071  0.045505  0.793274  1.153719 -0.837950 -0.702908   \n",
      "30314    35866.0 -2.044489  3.368306 -3.937111  5.623120 -3.079232 -1.253474   \n",
      "218271  141244.0  0.270390 -0.646570  1.076579 -2.102674 -0.491485 -0.081550   \n",
      "...          ...       ...       ...       ...       ...       ...       ...   \n",
      "261967  160259.0 -1.528802  1.339298 -0.187631 -0.581997  0.082762 -1.263808   \n",
      "6472      7740.0  1.023874  2.001485 -4.769752  3.819195 -1.271754 -1.734662   \n",
      "34942    37890.0  0.357508 -1.468973 -0.111646  0.861057 -0.671099  0.380669   \n",
      "52466    45463.0 -1.476893  2.122314 -1.229470  1.201849 -0.343264 -1.317704   \n",
      "167245  118568.0  2.154633 -0.481619 -1.972753 -0.101716 -0.054360 -1.418260   \n",
      "\n",
      "              V7        V8        V9  ...       V20       V21       V22   \n",
      "230076 -1.865911  0.780272 -3.868248  ...  0.519404  0.415437 -0.469938  \\\n",
      "262826 -2.854432  0.958783 -4.588536  ...  0.832035  0.622200 -0.437708   \n",
      "17547  -0.351143  0.023056  0.595905  ... -0.233140  0.113990  0.286447   \n",
      "30314  -5.778880  1.707428 -4.467103  ...  1.112028  1.483594  0.834311   \n",
      "218271 -0.114766 -0.420174 -1.849402  ... -0.193181 -0.155299  0.321590   \n",
      "...          ...       ...       ...  ...       ...       ...       ...   \n",
      "261967  0.411506  0.507763 -0.580442  ... -0.159814 -0.108213 -0.509042   \n",
      "6472   -3.059245  0.889805  0.415382  ...  0.204138  0.343283 -0.054196   \n",
      "34942   0.274501  0.113433  0.337273  ...  0.672410  0.066008 -0.635558   \n",
      "52466  -1.528142 -0.620953 -1.213040  ...  0.276893  1.186036 -0.040215   \n",
      "167245  0.372404 -0.574734 -0.917386  ... -0.571479 -0.240672 -0.096564   \n",
      "\n",
      "             V23       V24       V25       V26       V27       V28  Amount  \n",
      "230076  0.007128 -0.388147 -0.493398  0.466468  0.566370  0.262990    0.77  \n",
      "262826 -0.090358 -0.742802 -0.312361  0.502575  0.821390  0.372379    0.77  \n",
      "17547  -0.064633  0.352260  0.470548 -0.291128  0.031132  0.028315    9.99  \n",
      "30314  -0.148486  0.001669 -0.038996  0.389526  1.300236  0.549940    7.61  \n",
      "218271 -0.156583 -0.431216 -0.840527 -0.163436 -0.227692 -0.277141   13.45  \n",
      "...          ...       ...       ...       ...       ...       ...     ...  \n",
      "261967 -0.066479  0.087621 -0.407507  0.121393 -0.154485  0.023797    4.99  \n",
      "6472    0.709654 -0.372216 -2.032068  0.366778  0.395171  0.020206    1.00  \n",
      "34942  -0.365785 -0.262931  0.183890  0.365317 -0.104384  0.065813  429.04  \n",
      "52466  -0.238930  0.110144  0.045418 -0.569232  0.481019 -0.047555    1.00  \n",
      "167245 -0.011214 -0.075853  0.313001  0.536414 -0.080636 -0.071789   42.52  \n",
      "\n",
      "[197 rows x 30 columns] 145289    0\n",
      "187341    0\n",
      "56703     1\n",
      "150684    1\n",
      "6882      1\n",
      "         ..\n",
      "39183     1\n",
      "20878     0\n",
      "143335    1\n",
      "60305     0\n",
      "17317     1\n",
      "Name: Class, Length: 787, dtype: int64 230076    1\n",
      "262826    1\n",
      "17547     0\n",
      "30314     1\n",
      "218271    0\n",
      "         ..\n",
      "261967    0\n",
      "6472      1\n",
      "34942     0\n",
      "52466     1\n",
      "167245    0\n",
      "Name: Class, Length: 197, dtype: int64\n"
     ]
    }
   ],
   "source": [
    "print(x_train,x_test,y_train,y_test)"
   ]
  },
  {
   "cell_type": "code",
   "execution_count": 26,
   "metadata": {},
   "outputs": [
    {
     "data": {
      "text/html": [
       "<style>#sk-container-id-1 {color: black;background-color: white;}#sk-container-id-1 pre{padding: 0;}#sk-container-id-1 div.sk-toggleable {background-color: white;}#sk-container-id-1 label.sk-toggleable__label {cursor: pointer;display: block;width: 100%;margin-bottom: 0;padding: 0.3em;box-sizing: border-box;text-align: center;}#sk-container-id-1 label.sk-toggleable__label-arrow:before {content: \"▸\";float: left;margin-right: 0.25em;color: #696969;}#sk-container-id-1 label.sk-toggleable__label-arrow:hover:before {color: black;}#sk-container-id-1 div.sk-estimator:hover label.sk-toggleable__label-arrow:before {color: black;}#sk-container-id-1 div.sk-toggleable__content {max-height: 0;max-width: 0;overflow: hidden;text-align: left;background-color: #f0f8ff;}#sk-container-id-1 div.sk-toggleable__content pre {margin: 0.2em;color: black;border-radius: 0.25em;background-color: #f0f8ff;}#sk-container-id-1 input.sk-toggleable__control:checked~div.sk-toggleable__content {max-height: 200px;max-width: 100%;overflow: auto;}#sk-container-id-1 input.sk-toggleable__control:checked~label.sk-toggleable__label-arrow:before {content: \"▾\";}#sk-container-id-1 div.sk-estimator input.sk-toggleable__control:checked~label.sk-toggleable__label {background-color: #d4ebff;}#sk-container-id-1 div.sk-label input.sk-toggleable__control:checked~label.sk-toggleable__label {background-color: #d4ebff;}#sk-container-id-1 input.sk-hidden--visually {border: 0;clip: rect(1px 1px 1px 1px);clip: rect(1px, 1px, 1px, 1px);height: 1px;margin: -1px;overflow: hidden;padding: 0;position: absolute;width: 1px;}#sk-container-id-1 div.sk-estimator {font-family: monospace;background-color: #f0f8ff;border: 1px dotted black;border-radius: 0.25em;box-sizing: border-box;margin-bottom: 0.5em;}#sk-container-id-1 div.sk-estimator:hover {background-color: #d4ebff;}#sk-container-id-1 div.sk-parallel-item::after {content: \"\";width: 100%;border-bottom: 1px solid gray;flex-grow: 1;}#sk-container-id-1 div.sk-label:hover label.sk-toggleable__label {background-color: #d4ebff;}#sk-container-id-1 div.sk-serial::before {content: \"\";position: absolute;border-left: 1px solid gray;box-sizing: border-box;top: 0;bottom: 0;left: 50%;z-index: 0;}#sk-container-id-1 div.sk-serial {display: flex;flex-direction: column;align-items: center;background-color: white;padding-right: 0.2em;padding-left: 0.2em;position: relative;}#sk-container-id-1 div.sk-item {position: relative;z-index: 1;}#sk-container-id-1 div.sk-parallel {display: flex;align-items: stretch;justify-content: center;background-color: white;position: relative;}#sk-container-id-1 div.sk-item::before, #sk-container-id-1 div.sk-parallel-item::before {content: \"\";position: absolute;border-left: 1px solid gray;box-sizing: border-box;top: 0;bottom: 0;left: 50%;z-index: -1;}#sk-container-id-1 div.sk-parallel-item {display: flex;flex-direction: column;z-index: 1;position: relative;background-color: white;}#sk-container-id-1 div.sk-parallel-item:first-child::after {align-self: flex-end;width: 50%;}#sk-container-id-1 div.sk-parallel-item:last-child::after {align-self: flex-start;width: 50%;}#sk-container-id-1 div.sk-parallel-item:only-child::after {width: 0;}#sk-container-id-1 div.sk-dashed-wrapped {border: 1px dashed gray;margin: 0 0.4em 0.5em 0.4em;box-sizing: border-box;padding-bottom: 0.4em;background-color: white;}#sk-container-id-1 div.sk-label label {font-family: monospace;font-weight: bold;display: inline-block;line-height: 1.2em;}#sk-container-id-1 div.sk-label-container {text-align: center;}#sk-container-id-1 div.sk-container {/* jupyter's `normalize.less` sets `[hidden] { display: none; }` but bootstrap.min.css set `[hidden] { display: none !important; }` so we also need the `!important` here to be able to override the default hidden behavior on the sphinx rendered scikit-learn.org. See: https://github.com/scikit-learn/scikit-learn/issues/21755 */display: inline-block !important;position: relative;}#sk-container-id-1 div.sk-text-repr-fallback {display: none;}</style><div id=\"sk-container-id-1\" class=\"sk-top-container\"><div class=\"sk-text-repr-fallback\"><pre>LogisticRegression()</pre><b>In a Jupyter environment, please rerun this cell to show the HTML representation or trust the notebook. <br />On GitHub, the HTML representation is unable to render, please try loading this page with nbviewer.org.</b></div><div class=\"sk-container\" hidden><div class=\"sk-item\"><div class=\"sk-estimator sk-toggleable\"><input class=\"sk-toggleable__control sk-hidden--visually\" id=\"sk-estimator-id-1\" type=\"checkbox\" checked><label for=\"sk-estimator-id-1\" class=\"sk-toggleable__label sk-toggleable__label-arrow\">LogisticRegression</label><div class=\"sk-toggleable__content\"><pre>LogisticRegression()</pre></div></div></div></div></div>"
      ],
      "text/plain": [
       "LogisticRegression()"
      ]
     },
     "execution_count": 26,
     "metadata": {},
     "output_type": "execute_result"
    }
   ],
   "source": [
    "# Model Training-Loistic Regression\n",
    "model = LogisticRegression()\n",
    "model.fit(x_train,y_train)\n"
   ]
  },
  {
   "cell_type": "code",
   "execution_count": 27,
   "metadata": {},
   "outputs": [],
   "source": [
    "#Model Evaluation-Accuracy Score\n",
    "#Accuracy on training data\n",
    "y_predict = model.predict(x_test)"
   ]
  },
  {
   "cell_type": "code",
   "execution_count": 30,
   "metadata": {},
   "outputs": [
    {
     "name": "stdout",
     "output_type": "stream",
     "text": [
      "0.9593908629441624\n"
     ]
    }
   ],
   "source": [
    "accuracy = accuracy_score(y_test,y_predict)\n",
    "print(accuracy)"
   ]
  },
  {
   "cell_type": "code",
   "execution_count": null,
   "metadata": {},
   "outputs": [],
   "source": []
  }
 ],
 "metadata": {
  "kernelspec": {
   "display_name": "Python 3.11.3 64-bit (microsoft store)",
   "language": "python",
   "name": "python3"
  },
  "language_info": {
   "codemirror_mode": {
    "name": "ipython",
    "version": 3
   },
   "file_extension": ".py",
   "mimetype": "text/x-python",
   "name": "python",
   "nbconvert_exporter": "python",
   "pygments_lexer": "ipython3",
   "version": "3.11.3"
  },
  "orig_nbformat": 4,
  "vscode": {
   "interpreter": {
    "hash": "584cc8f0d449d89b5866eb870d097caef796fcbdeb82990e5be9128599301d79"
   }
  }
 },
 "nbformat": 4,
 "nbformat_minor": 2
}
